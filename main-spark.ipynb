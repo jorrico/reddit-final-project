{
 "cells": [
  {
   "cell_type": "code",
   "execution_count": 1,
   "id": "2eff859b-5d2b-4463-8bb0-5608c26f55a4",
   "metadata": {},
   "outputs": [],
   "source": [
    "from nltk.stem.porter import PorterStemmer\n",
    "from nltk.tokenize import word_tokenize\n",
    "from nltk.corpus import stopwords\n",
    "import nltk\n",
    "\n",
    "from pyspark.sql import SparkSession\n",
    "from operator import add\n",
    "import string\n",
    "import json\n",
    "import re"
   ]
  },
  {
   "cell_type": "code",
   "execution_count": 2,
   "id": "612c2353-24a8-4b82-8d38-75cf7872f083",
   "metadata": {},
   "outputs": [
    {
     "name": "stderr",
     "output_type": "stream",
     "text": [
      "Using Spark's default log4j profile: org/apache/spark/log4j-defaults.properties\n",
      "Setting default log level to \"WARN\".\n",
      "To adjust logging level use sc.setLogLevel(newLevel). For SparkR, use setLogLevel(newLevel).\n",
      "22/03/16 22:50:18 WARN NativeCodeLoader: Unable to load native-hadoop library for your platform... using builtin-java classes where applicable\n",
      "22/03/16 22:50:19 WARN Utils: Service 'sparkDriver' could not bind on port 9998. Attempting port 9999.\n",
      "22/03/16 22:50:20 WARN Utils: Service 'SparkUI' could not bind on port 4040. Attempting port 4041.\n",
      "22/03/16 22:50:21 WARN Utils: Service 'org.apache.spark.network.netty.NettyBlockTransferService' could not bind on port 10005. Attempting port 10006.\n",
      "22/03/16 22:50:22 WARN ExecutorAllocationManager: Dynamic allocation without a shuffle service is an experimental feature.\n"
     ]
    }
   ],
   "source": [
    "spark_session = SparkSession\\\n",
    "    .builder\\\n",
    "    .master(\"spark://192.168.2.167:7077\")\\\n",
    "    .appName(\"G18\")\\\n",
    "    .config(\"spark.executor.cores\",2)\\\n",
    "    .config(\"spark.dynamicAllocation.enabled\", True)\\\n",
    "    .config(\"spark.dynamicAllocation.shuffleTracking.enabled\", True)\\\n",
    "    .config(\"spark.shuffle.service.enabled\", False)\\\n",
    "    .config(\"spark.dynamicAllocation.executorIdleTimeout\",\"30s\")\\\n",
    "    .config(\"spark.driver.port\",9998)\\\n",
    "    .config(\"spark.blockManager.port\",10005)\\\n",
    "    .getOrCreate()\n",
    "\n",
    "spark_context = spark_session.sparkContext\n",
    "spark_context.setLogLevel(\"ERROR\")"
   ]
  },
  {
   "cell_type": "code",
   "execution_count": 3,
   "id": "2d000172-a291-48d2-bdf9-5c00f27941db",
   "metadata": {},
   "outputs": [
    {
     "name": "stdout",
     "output_type": "stream",
     "text": [
      "head: cannot open '/home/ubuntu/reddit-final-project/sample' for reading: No such file or directory\n"
     ]
    }
   ],
   "source": [
    "!head -1 ~/reddit-final-project/sample"
   ]
  },
  {
   "cell_type": "code",
   "execution_count": 4,
   "id": "62f5889c-8206-48c2-afbd-cee9efb6d766",
   "metadata": {},
   "outputs": [],
   "source": [
    "_NLTK_STOPWORDS = set([re.sub('\\'', '', sw) for sw in stopwords.words('english')])\n",
    "_NLTK_STEMMER   = PorterStemmer()"
   ]
  },
  {
   "cell_type": "code",
   "execution_count": 5,
   "id": "fd248dfd-f60b-4b7a-9fea-b2607911d71f",
   "metadata": {},
   "outputs": [],
   "source": [
    "lines = spark_context.textFile(\"hdfs://192.168.2.167:9000/user/ubuntu/data/RC_2011-08\")"
   ]
  },
  {
   "cell_type": "code",
   "execution_count": 6,
   "id": "f14bf019-94df-4c7b-8143-2718ba2a8d6c",
   "metadata": {},
   "outputs": [],
   "source": [
    "def json_tuple_mapper(json_string, key, value):\n",
    "    \"\"\"\n",
    "        Converts json string into key-value pair of ID and its associated\n",
    "        comment. Comments then are lowercased.\n",
    "    \"\"\"\n",
    "    dict=json.loads(json_string)\n",
    "    id_string=dict[key]\n",
    "    comment=dict[value].lower().strip()\n",
    "    return (id_string, comment)\n",
    "\n",
    "def comment_corrector_mapper(comment):\n",
    "    allowed_char = string.ascii_letters + string.digits + ' '\n",
    "    comment = ''.join([letter if letter in allowed_char else '' for letter in comment])\n",
    "    comment = re.sub(' +', ' ', comment)\n",
    "    return comment\n",
    "\n",
    "def NLP_preprocessing_mapper(comment):\n",
    "    comment_tokenized   = word_tokenize(comment)\n",
    "    comment_no_stopword = [word for word in comment_tokenized if word not in _NLTK_STOPWORDS]\n",
    "    comment_stemmed     = [_NLTK_STEMMER.stem(word) for word in comment_no_stopword]\n",
    "    return comment_stemmed"
   ]
  },
  {
   "cell_type": "code",
   "execution_count": 7,
   "id": "bfead40a",
   "metadata": {},
   "outputs": [],
   "source": [
    "comments = lines.map(lambda json_str: json_tuple_mapper(json_str,'id','body'))\n",
    "# comments.take(10)"
   ]
  },
  {
   "cell_type": "code",
   "execution_count": 8,
   "id": "2bf050c4-1c13-4861-ac56-9147a87aacc8",
   "metadata": {},
   "outputs": [],
   "source": [
    "subreddit = lines.map(lambda json_str: (json.loads(json_str)['subreddit'], 1))\n",
    "subreddit = subreddit.reduceByKey(add)"
   ]
  },
  {
   "cell_type": "code",
   "execution_count": 9,
   "id": "c49dc847-43d9-4428-87df-baf34c341eef",
   "metadata": {},
   "outputs": [
    {
     "name": "stderr",
     "output_type": "stream",
     "text": [
      "                                                                                \r"
     ]
    }
   ],
   "source": [
    "filter_threshold = subreddit.filter(lambda tup: tup[1] > 10000)\n",
    "subreddit_sort = filter_threshold.sortBy(lambda tup: tup[1])\n",
    "# subreddit_sort.collect()"
   ]
  },
  {
   "cell_type": "code",
   "execution_count": 10,
   "id": "f6b20698-b7c0-426c-a666-37b4846e4fbc",
   "metadata": {},
   "outputs": [
    {
     "name": "stderr",
     "output_type": "stream",
     "text": [
      "22/03/16 22:53:48 ERROR TaskSchedulerImpl: Lost executor 0 on 192.168.2.167: Remote RPC client disassociated. Likely due to containers exceeding thresholds, or network issues. Check driver logs for WARN messages.\n",
      "                                                                                \r"
     ]
    },
    {
     "data": {
      "text/plain": [
       "[('c298mtc', ['2', 'would', 'take', 'deal', 'id', 'take', 'deal']),\n",
       " ('c298mtg', ['wreck', 'yet']),\n",
       " ('c298mth',\n",
       "  ['think',\n",
       "   '170k',\n",
       "   'max',\n",
       "   'get',\n",
       "   'anoth',\n",
       "   'player',\n",
       "   'book',\n",
       "   'gibson',\n",
       "   'would',\n",
       "   'small',\n",
       "   'bit',\n",
       "   'room',\n",
       "   'maneuv']),\n",
       " ('c298mti', ['baton', 'like', 'kill', 'someon', 'taser']),\n",
       " ('c298mtl', ['cut', 'break', 'probabl', 'finish', 'watch', 'train', 'day']),\n",
       " ('c298mtm', ['100']),\n",
       " ('c298mto', ['1000']),\n",
       " ('c298mtp',\n",
       "  ['assum',\n",
       "   'combin',\n",
       "   'clopclop',\n",
       "   'peopl',\n",
       "   'think',\n",
       "   'cute',\n",
       "   'peopl',\n",
       "   'think',\n",
       "   'trend',\n",
       "   'funni',\n",
       "   'spacehaven',\n",
       "   'may',\n",
       "   'prove',\n",
       "   'assumpt',\n",
       "   'wrong',\n",
       "   'though']),\n",
       " ('c298mtq', ['wonder', 'smooth', 'top']),\n",
       " ('c298mtr', ['clive', 'ownen'])]"
      ]
     },
     "execution_count": 10,
     "metadata": {},
     "output_type": "execute_result"
    }
   ],
   "source": [
    "comments = comments.filter(lambda pair: pair[1]!='[deleted]')\n",
    "comments = comments.mapValues(comment_corrector_mapper)\n",
    "comments = comments.mapValues(NLP_preprocessing_mapper)\n",
    "comments.take(10)"
   ]
  },
  {
   "cell_type": "code",
   "execution_count": null,
   "id": "cba9246a-dde5-4312-88c0-a5ce6e5a5277",
   "metadata": {},
   "outputs": [],
   "source": []
  }
 ],
 "metadata": {
  "kernelspec": {
   "display_name": "Python 3 (ipykernel)",
   "language": "python",
   "name": "python3"
  },
  "language_info": {
   "codemirror_mode": {
    "name": "ipython",
    "version": 3
   },
   "file_extension": ".py",
   "mimetype": "text/x-python",
   "name": "python",
   "nbconvert_exporter": "python",
   "pygments_lexer": "ipython3",
   "version": "3.8.10"
  }
 },
 "nbformat": 4,
 "nbformat_minor": 5
}
