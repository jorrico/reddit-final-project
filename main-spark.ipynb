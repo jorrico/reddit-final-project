{
 "cells": [
  {
   "cell_type": "code",
   "execution_count": 1,
   "id": "2eff859b-5d2b-4463-8bb0-5608c26f55a4",
   "metadata": {},
   "outputs": [],
   "source": [
    "from nltk.stem.porter import PorterStemmer\n",
    "from nltk.tokenize import word_tokenize\n",
    "from nltk.corpus import stopwords\n",
    "import nltk\n",
    "\n",
    "from pyspark.sql import SparkSession\n",
    "from operator import add\n",
    "import string\n",
    "import time\n",
    "import json\n",
    "import re"
   ]
  },
  {
   "cell_type": "code",
   "execution_count": 2,
   "id": "612c2353-24a8-4b82-8d38-75cf7872f083",
   "metadata": {},
   "outputs": [
    {
     "name": "stderr",
     "output_type": "stream",
     "text": [
      "Setting default log level to \"WARN\".\n",
      "To adjust logging level use sc.setLogLevel(newLevel). For SparkR, use setLogLevel(newLevel).\n",
      "2022-03-19 15:00:12,793 WARN util.NativeCodeLoader: Unable to load native-hadoop library for your platform... using builtin-java classes where applicable\n",
      "2022-03-19 15:00:14,712 WARN spark.ExecutorAllocationManager: Dynamic allocation without a shuffle service is an experimental feature.\n"
     ]
    }
   ],
   "source": [
    "spark_session = SparkSession\\\n",
    "    .builder\\\n",
    "    .master(\"spark://192.168.2.42:7077\")\\\n",
    "    .appName(\"G18\")\\\n",
    "    .config(\"spark.dynamicAllocation.enabled\", True)\\\n",
    "    .config(\"spark.dynamicAllocation.shuffleTracking.enabled\", True)\\\n",
    "    .config(\"spark.shuffle.service.enabled\", False)\\\n",
    "    .config(\"spark.dynamicAllocation.executorIdleTimeout\",\"30s\")\\\n",
    "    .config(\"spark.driver.port\",9998)\\\n",
    "    .config(\"spark.blockManager.port\",10005)\\\n",
    "    .getOrCreate()\n",
    "\n",
    "# .config(\"spark.executor.cores\",4)\\\n",
    "\n",
    "spark_context = spark_session.sparkContext\n",
    "spark_context.setLogLevel(\"ERROR\")"
   ]
  },
  {
   "cell_type": "code",
   "execution_count": 3,
   "id": "62f5889c-8206-48c2-afbd-cee9efb6d766",
   "metadata": {},
   "outputs": [],
   "source": [
    "_NLTK_STOPWORDS = set([re.sub('\\'', '', sw) for sw in stopwords.words('english')])\n",
    "_NLTK_STEMMER   = PorterStemmer()"
   ]
  },
  {
   "cell_type": "code",
   "execution_count": 4,
   "id": "f14bf019-94df-4c7b-8143-2718ba2a8d6c",
   "metadata": {},
   "outputs": [],
   "source": [
    "def json_tuple_mapper(json_string, key, value):\n",
    "    \"\"\"\n",
    "        Converts json string into key-value pair of ID and its associated\n",
    "        comment. Comments then are lowercased.\n",
    "    \"\"\"\n",
    "    pair = json.loads(json_string)\n",
    "    id_string = pair[key]\n",
    "    comment = pair[value].lower().strip()\n",
    "    return (id_string, comment)\n",
    "\n",
    "def comment_corrector_mapper(comment):\n",
    "    allowed_char = string.ascii_letters + string.digits + ' '\n",
    "    comment = ''.join([letter if letter in allowed_char else '' for letter in comment])\n",
    "    comment = re.sub(' +', ' ', comment)\n",
    "    return comment\n",
    "\n",
    "def NLP_preprocessing_mapper(comment):\n",
    "    comment_tokenized   = word_tokenize(comment)\n",
    "    comment_no_stopword = [word for word in comment_tokenized if word not in _NLTK_STOPWORDS]\n",
    "    comment_stemmed     = [_NLTK_STEMMER.stem(word) for word in comment_no_stopword]\n",
    "    return comment_stemmed\n",
    "\n",
    "def benchmark_rdd_evaluation(rdd):\n",
    "    start = time.time()\n",
    "    rdd.count()\n",
    "    elapsed = time.time() - start\n",
    "    print(\"Time taken to evaluate RDD: {} seconds\".format(elapsed))"
   ]
  },
  {
   "cell_type": "code",
   "execution_count": 5,
   "id": "d4ab0986-3e7b-48a9-89de-069be9f499d5",
   "metadata": {},
   "outputs": [],
   "source": [
    "filename = \"RC_2011-08\"\n",
    "lines = spark_context.textFile(\"hdfs://192.168.2.42:9000/user/ubuntu/data/{}\".format(filename))"
   ]
  },
  {
   "cell_type": "code",
   "execution_count": 6,
   "id": "bfead40a",
   "metadata": {},
   "outputs": [],
   "source": [
    "comments_rdd = lines.map(lambda json_str: json_tuple_mapper(json_str,'id','body'))\\\n",
    "                    .filter(lambda pair: pair[1]!='[deleted]')\\\n",
    "                    .mapValues(comment_corrector_mapper)\\\n",
    "                    .mapValues(NLP_preprocessing_mapper)"
   ]
  },
  {
   "cell_type": "code",
   "execution_count": null,
   "id": "86abadc0-aa67-44f0-8cd3-ed15814eb9fa",
   "metadata": {},
   "outputs": [
    {
     "name": "stderr",
     "output_type": "stream",
     "text": [
      "[Stage 0:======================================================>  (51 + 2) / 53]\r"
     ]
    }
   ],
   "source": [
    "benchmark_rdd_evaluation(comments_rdd)"
   ]
  },
  {
   "cell_type": "code",
   "execution_count": null,
   "id": "47548521-9b67-4272-910f-229905fc428b",
   "metadata": {},
   "outputs": [],
   "source": [
    "spark_context.stop()"
   ]
  },
  {
   "cell_type": "code",
   "execution_count": null,
   "id": "c7dfaa3c-f940-4fd7-9ca3-07f68478ae2d",
   "metadata": {},
   "outputs": [],
   "source": []
  }
 ],
 "metadata": {
  "kernelspec": {
   "display_name": "Python 3 (ipykernel)",
   "language": "python",
   "name": "python3"
  },
  "language_info": {
   "codemirror_mode": {
    "name": "ipython",
    "version": 3
   },
   "file_extension": ".py",
   "mimetype": "text/x-python",
   "name": "python",
   "nbconvert_exporter": "python",
   "pygments_lexer": "ipython3",
   "version": "3.8.10"
  }
 },
 "nbformat": 4,
 "nbformat_minor": 5
}
